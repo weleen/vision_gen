{
 "cells": [
  {
   "cell_type": "code",
   "execution_count": null,
   "metadata": {},
   "outputs": [],
   "source": [
    "import torch\n",
    "from diffusers import StableDiffusionXLPipeline, DPMSolverSinglestepScheduler\n",
    "\n",
    "# Load model.\n",
    "pipe = StableDiffusionXLPipeline.from_pretrained(\"./sdxl-flash\", torch_dtype=torch.float16, variant=\"fp16\").to(\"cuda\")\n",
    "\n",
    "# Ensure sampler uses \"trailing\" timesteps.\n",
    "pipe.scheduler = DPMSolverSinglestepScheduler.from_config(pipe.scheduler.config, timestep_spacing=\"trailing\")\n",
    "\n",
    "# Image generation.\n",
    "pipe(\"a happy dog, sunny day, realism\", num_inference_steps=7, guidance_scale=3).images[0].save(\"output.png\")\n"
   ]
  }
 ],
 "metadata": {
  "language_info": {
   "name": "python"
  }
 },
 "nbformat": 4,
 "nbformat_minor": 2
}
